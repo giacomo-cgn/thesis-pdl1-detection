{
 "cells": [
  {
   "cell_type": "code",
   "execution_count": 1,
   "id": "335314c2-7fea-4e4a-8d72-1baab7f75a7f",
   "metadata": {},
   "outputs": [],
   "source": [
    "import numpy as np\n",
    "import matplotlib.pyplot as plt\n",
    "from define_dataset import define_dataset\n",
    "import time\n",
    "from sklearn.model_selection import cross_val_score\n",
    "from sklearn import svm\n",
    "from sklearn.model_selection import GridSearchCV\n",
    "from sklearn.metrics import accuracy_score"
   ]
  },
  {
   "cell_type": "code",
   "execution_count": 2,
   "id": "7bd27e31-bf59-4dc4-a82e-c8d243eb0db6",
   "metadata": {},
   "outputs": [],
   "source": [
    "def build_model(X, y):\n",
    "    params = [\n",
    "    {\"kernel\": [\"rbf\", \"linear\", \"sigmoid\", \"poly\"], \"gamma\": [\"scale\", \"auto\"], \"C\": [0.1, 1, 10, 100, 300, 1000]},\n",
    "    {\"kernel\": [\"poly\"], \"degree\": [2,3,4], \"gamma\": [\"scale\", \"auto\"], \"C\": [0.1, 1, 10, 100, 300, 1000]},\n",
    "\n",
    "    ] \n",
    "    clf = GridSearchCV(svm.SVC(), params, refit = True, cv=6)\n",
    "    clf.fit(X, y)\n",
    "    print(\"Best parameters set found:\")\n",
    "    print(clf.best_params_)\n",
    "    print(\"Best score found:\")\n",
    "    print(clf.best_score_)\n",
    "    return(clf.best_score_, clf.best_estimator_)"
   ]
  },
  {
   "cell_type": "code",
   "execution_count": 5,
   "id": "9536922a-7651-441a-9cec-b9dfd03b7e4d",
   "metadata": {},
   "outputs": [
    {
     "name": "stdout",
     "output_type": "stream",
     "text": [
      "Num bins: 40 ROI threshold: 0.85\n",
      "Best parameters set found:\n",
      "{'C': 300, 'gamma': 'scale', 'kernel': 'linear'}\n",
      "Best score found:\n",
      "0.7111111111111111\n",
      "Num bins: 60 ROI threshold: 0.85\n",
      "Best parameters set found:\n",
      "{'C': 100, 'gamma': 'scale', 'kernel': 'sigmoid'}\n",
      "Best score found:\n",
      "0.65\n",
      "Num bins: 100 ROI threshold: 0.85\n",
      "Best parameters set found:\n",
      "{'C': 100, 'gamma': 'auto', 'kernel': 'rbf'}\n",
      "Best score found:\n",
      "0.638888888888889\n",
      "Num bins: 40 ROI threshold: 0.9\n",
      "Best parameters set found:\n",
      "{'C': 100, 'gamma': 'scale', 'kernel': 'linear'}\n",
      "Best score found:\n",
      "0.7388888888888889\n",
      "Num bins: 60 ROI threshold: 0.9\n",
      "Best parameters set found:\n",
      "{'C': 1, 'gamma': 'auto', 'kernel': 'rbf'}\n",
      "Best score found:\n",
      "0.7333333333333334\n",
      "Num bins: 100 ROI threshold: 0.9\n",
      "Best parameters set found:\n",
      "{'C': 100, 'gamma': 'auto', 'kernel': 'rbf'}\n",
      "Best score found:\n",
      "0.6999999999999998\n",
      "Num bins: 40 ROI threshold: 0.95\n",
      "Best parameters set found:\n",
      "{'C': 100, 'gamma': 'scale', 'kernel': 'linear'}\n",
      "Best score found:\n",
      "0.7333333333333334\n",
      "Num bins: 60 ROI threshold: 0.95\n",
      "Best parameters set found:\n",
      "{'C': 10, 'gamma': 'scale', 'kernel': 'linear'}\n",
      "Best score found:\n",
      "0.6722222222222222\n",
      "Num bins: 100 ROI threshold: 0.95\n",
      "Best parameters set found:\n",
      "{'C': 300, 'gamma': 'scale', 'kernel': 'linear'}\n",
      "Best score found:\n",
      "0.7277777777777779\n"
     ]
    }
   ],
   "source": [
    "dataset = define_dataset()\n",
    "tr_set = dataset.tr_set\n",
    "test_set = dataset.test_set\n",
    "results_dict = dataset.results_dict\n",
    "num_bins_arr = [40, 60, 100]\n",
    "ROI_threshold_arr = [0.85, 0.9, 0.95]\n",
    "best_clf_score = 0\n",
    "\n",
    "\n",
    "for ROI_threshold in ROI_threshold_arr:\n",
    "    for num_bins in num_bins_arr:\n",
    "        X = np.load('bins/bins_arr_'+str(num_bins)+'r'+str(ROI_threshold)+'.npy')\n",
    "        y = np.zeros(np.shape(tr_set), dtype='int')\n",
    "        for i, slide_name in enumerate(tr_set):\n",
    "            y[i] = results_dict[slide_name]\n",
    "        print('Num bins:', num_bins, 'ROI threshold:', ROI_threshold)\n",
    "\n",
    "        (score, clf) = build_model(X, y)\n",
    "        if score >= best_clf_score:\n",
    "            best_clf_score = score\n",
    "            best_clf = clf\n",
    "            best_bins = num_bins\n",
    "            best_ROI = ROI_threshold"
   ]
  },
  {
   "cell_type": "markdown",
   "id": "5178ff2d-022f-4e73-bcda-0b1db53bac32",
   "metadata": {},
   "source": [
    "Test set"
   ]
  },
  {
   "cell_type": "code",
   "execution_count": 10,
   "id": "42a1df23-e12d-4ebc-8fb9-f42172791b75",
   "metadata": {},
   "outputs": [
    {
     "name": "stdout",
     "output_type": "stream",
     "text": [
      "best bins: 40 , best ROI threshold: 0.9 , best score: 0.7388888888888889\n",
      "predictions: [0 0 0 1 1 0]\n",
      "real y: [0 0 0 1 1 1]\n",
      "Test result: 0.8333333333333334\n",
      "Errors: 1\n"
     ]
    }
   ],
   "source": [
    "print('best bins:', best_bins, ', best ROI threshold:', best_ROI, ', best score:', best_clf_score)\n",
    "X_test = np.load('./bins/bins_arr_test_'+str(best_bins)+'r'+str(best_ROI)+'.npy')\n",
    "y_test = np.zeros(np.shape(test_set), dtype='int')\n",
    "for i, slide_name in enumerate(test_set):\n",
    "    y_test[i] = results_dict[slide_name]\n",
    "\n",
    "y_pred = best_clf.predict(X_test)\n",
    "\n",
    "print('predictions:',y_pred)\n",
    "print('real y:', y_test)\n",
    "score = accuracy_score(y_test, y_pred)\n",
    "errors = np.size(test_set) - accuracy_score(y_test, y_pred, normalize=False)\n",
    "print('Test result:', score)\n",
    "print('Errors:', errors)"
   ]
  }
 ],
 "metadata": {
  "kernelspec": {
   "display_name": "Python 3",
   "language": "python",
   "name": "python3"
  },
  "language_info": {
   "codemirror_mode": {
    "name": "ipython",
    "version": 3
   },
   "file_extension": ".py",
   "mimetype": "text/x-python",
   "name": "python",
   "nbconvert_exporter": "python",
   "pygments_lexer": "ipython3",
   "version": "3.7.11"
  }
 },
 "nbformat": 4,
 "nbformat_minor": 5
}

{
 "cells": [
  {
   "cell_type": "code",
   "execution_count": 1,
   "id": "e56fe9a4-b53d-47aa-a7c0-c3e0b5c83dfd",
   "metadata": {},
   "outputs": [],
   "source": [
    "import numpy as np\n",
    "import matplotlib.pyplot as plt\n",
    "from define_dataset import define_dataset\n",
    "import time\n",
    "from sklearn.model_selection import cross_val_score\n",
    "from sklearn.linear_model import LogisticRegression\n",
    "from sklearn.model_selection import GridSearchCV\n",
    "from sklearn.metrics import accuracy_score"
   ]
  },
  {
   "cell_type": "code",
   "execution_count": 2,
   "id": "fd738972-74cf-4146-aa91-005720bb1d87",
   "metadata": {},
   "outputs": [],
   "source": [
    "def build_model(X, y):\n",
    "    params = [{\n",
    "    'C':[0.1, 0.2, 0.5, 1],\n",
    "    'max_iter': [500, 1000, 2000]\n",
    "    }] \n",
    "    clf = GridSearchCV(LogisticRegression(), params, refit = True, cv=6)\n",
    "    clf.fit(X, y)\n",
    "    print(\"Best parameters set found:\")\n",
    "    print(clf.best_params_)\n",
    "    print(\"Best score found:\")\n",
    "    print(clf.best_score_)\n",
    "    return(clf.best_score_, clf.best_estimator_)"
   ]
  },
  {
   "cell_type": "code",
   "execution_count": 5,
   "id": "b0c54247-89df-437d-ac37-1591f0313e0e",
   "metadata": {},
   "outputs": [
    {
     "name": "stdout",
     "output_type": "stream",
     "text": [
      "Num bins: 40 ROI threshold: 0.85\n",
      "Best parameters set found:\n",
      "{'C': 0.5, 'max_iter': 500}\n",
      "Best score found:\n",
      "0.48333333333333334\n",
      "Num bins: 60 ROI threshold: 0.85\n",
      "Best parameters set found:\n",
      "{'C': 0.2, 'max_iter': 500}\n",
      "Best score found:\n",
      "0.5111111111111111\n",
      "Num bins: 100 ROI threshold: 0.85\n",
      "Best parameters set found:\n",
      "{'C': 0.1, 'max_iter': 500}\n",
      "Best score found:\n",
      "0.5055555555555555\n",
      "Num bins: 40 ROI threshold: 0.9\n",
      "Best parameters set found:\n",
      "{'C': 0.5, 'max_iter': 500}\n",
      "Best score found:\n",
      "0.48333333333333334\n",
      "Num bins: 60 ROI threshold: 0.9\n",
      "Best parameters set found:\n",
      "{'C': 0.2, 'max_iter': 500}\n",
      "Best score found:\n",
      "0.5111111111111111\n",
      "Num bins: 100 ROI threshold: 0.9\n",
      "Best parameters set found:\n",
      "{'C': 0.1, 'max_iter': 500}\n",
      "Best score found:\n",
      "0.5055555555555555\n",
      "Num bins: 40 ROI threshold: 0.95\n",
      "Best parameters set found:\n",
      "{'C': 0.1, 'max_iter': 500}\n",
      "Best score found:\n",
      "0.5722222222222223\n",
      "Num bins: 60 ROI threshold: 0.95\n",
      "Best parameters set found:\n",
      "{'C': 0.2, 'max_iter': 500}\n",
      "Best score found:\n",
      "0.5444444444444444\n",
      "Num bins: 100 ROI threshold: 0.95\n",
      "Best parameters set found:\n",
      "{'C': 0.1, 'max_iter': 500}\n",
      "Best score found:\n",
      "0.5722222222222223\n"
     ]
    }
   ],
   "source": [
    "dataset = define_dataset()\n",
    "tr_set = dataset.tr_set\n",
    "test_set = dataset.test_set\n",
    "results_dict = dataset.results_dict\n",
    "num_bins_arr = [40, 60, 100]\n",
    "ROI_threshold_arr = [0.85, 0.9, 0.95]\n",
    "best_clf_score = 0\n",
    "\n",
    "for ROI_threshold in ROI_threshold_arr:\n",
    "    for num_bins in num_bins_arr:\n",
    "        X = np.load('bins/bins_arr_'+str(num_bins)+'r'+str(ROI_threshold)+'.npy')\n",
    "        y = np.zeros(np.shape(tr_set), dtype='int')\n",
    "        for i, slide_name in enumerate(tr_set):\n",
    "            y[i] = results_dict[slide_name]\n",
    "        print('Num bins:', num_bins, 'ROI threshold:', ROI_threshold)\n",
    "\n",
    "        (score, clf) = build_model(X, y)\n",
    "        if score >= best_clf_score:\n",
    "            best_clf_score = score\n",
    "            best_clf = clf\n",
    "            best_bins = num_bins\n",
    "            best_ROI = ROI_threshold"
   ]
  },
  {
   "cell_type": "markdown",
   "id": "853c4d86-2fb9-43f6-b4cc-cbc1df77eae8",
   "metadata": {},
   "source": [
    "Test set"
   ]
  },
  {
   "cell_type": "code",
   "execution_count": 8,
   "id": "7fb8a96c-e45f-436d-abde-eee74acb31a4",
   "metadata": {},
   "outputs": [
    {
     "name": "stdout",
     "output_type": "stream",
     "text": [
      "best bins: 100 , best ROI threshold: 0.95 , best score: 0.5722222222222223\n",
      "predictions: [0 1 0 0 0 0]\n",
      "real y: [0 0 0 1 1 1]\n",
      "Test result: 0.3333333333333333\n",
      "Errors: 4\n"
     ]
    }
   ],
   "source": [
    "print('best bins:', best_bins, ', best ROI threshold:', best_ROI, ', best score:', best_clf_score)\n",
    "X_test = np.load('./bins/bins_arr_test_'+str(best_bins)+'r'+str(best_ROI)+'.npy')\n",
    "y_test = np.zeros(np.shape(test_set), dtype='int')\n",
    "for i, slide_name in enumerate(test_set):\n",
    "    y_test[i] = results_dict[slide_name]\n",
    "\n",
    "y_pred = best_clf.predict(X_test)\n",
    "\n",
    "print('predictions:',y_pred)\n",
    "print('real y:', y_test)\n",
    "score = accuracy_score(y_test, y_pred)\n",
    "errors = np.size(test_set) - accuracy_score(y_test, y_pred, normalize=False)\n",
    "print('Test result:', score)\n",
    "print('Errors:', errors)"
   ]
  }
 ],
 "metadata": {
  "kernelspec": {
   "display_name": "Python 3",
   "language": "python",
   "name": "python3"
  },
  "language_info": {
   "codemirror_mode": {
    "name": "ipython",
    "version": 3
   },
   "file_extension": ".py",
   "mimetype": "text/x-python",
   "name": "python",
   "nbconvert_exporter": "python",
   "pygments_lexer": "ipython3",
   "version": "3.7.11"
  }
 },
 "nbformat": 4,
 "nbformat_minor": 5
}

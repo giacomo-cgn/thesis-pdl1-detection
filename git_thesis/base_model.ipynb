{
 "cells": [
  {
   "cell_type": "code",
   "execution_count": 1,
   "id": "fde58d05-6879-41d0-afcd-d566a7cc61ab",
   "metadata": {},
   "outputs": [],
   "source": [
    "import numpy as np\n",
    "import matplotlib.pyplot as plt\n",
    "import openslide\n",
    "import cv2 as cv\n",
    "from define_dataset import define_dataset\n",
    "from color_distance import color_distance\n",
    "import time"
   ]
  },
  {
   "cell_type": "code",
   "execution_count": 2,
   "id": "834fc854-e938-4a61-84a1-2b0db2e6f319",
   "metadata": {},
   "outputs": [
    {
     "ename": "FileNotFoundError",
     "evalue": "[Errno 2] No such file or directory: '../WSI/thesis_WSI/resultsWSI.ods'",
     "output_type": "error",
     "traceback": [
      "\u001b[1;31m---------------------------------------------------------------------------\u001b[0m",
      "\u001b[1;31mFileNotFoundError\u001b[0m                         Traceback (most recent call last)",
      "\u001b[1;32m<ipython-input-2-2822aad1c7c7>\u001b[0m in \u001b[0;36m<module>\u001b[1;34m\u001b[0m\n\u001b[1;32m----> 1\u001b[1;33m \u001b[0mdataset\u001b[0m \u001b[1;33m=\u001b[0m \u001b[0mdefine_dataset\u001b[0m\u001b[1;33m(\u001b[0m\u001b[1;33m)\u001b[0m\u001b[1;33m\u001b[0m\u001b[1;33m\u001b[0m\u001b[0m\n\u001b[0m\u001b[0;32m      2\u001b[0m \u001b[0mtr_set\u001b[0m \u001b[1;33m=\u001b[0m \u001b[0mdataset\u001b[0m\u001b[1;33m.\u001b[0m\u001b[0mtr_set\u001b[0m\u001b[1;33m\u001b[0m\u001b[1;33m\u001b[0m\u001b[0m\n\u001b[0;32m      3\u001b[0m \u001b[0mtest_set\u001b[0m \u001b[1;33m=\u001b[0m \u001b[0mdataset\u001b[0m\u001b[1;33m.\u001b[0m\u001b[0mtest_set\u001b[0m\u001b[1;33m\u001b[0m\u001b[1;33m\u001b[0m\u001b[0m\n\u001b[0;32m      4\u001b[0m \u001b[0mresults_dict\u001b[0m \u001b[1;33m=\u001b[0m \u001b[0mdataset\u001b[0m\u001b[1;33m.\u001b[0m\u001b[0mresults_dict\u001b[0m\u001b[1;33m\u001b[0m\u001b[1;33m\u001b[0m\u001b[0m\n\u001b[0;32m      5\u001b[0m \u001b[0mnum_positives\u001b[0m \u001b[1;33m=\u001b[0m \u001b[0mdataset\u001b[0m\u001b[1;33m.\u001b[0m\u001b[0mnum_positives\u001b[0m\u001b[1;33m\u001b[0m\u001b[1;33m\u001b[0m\u001b[0m\n",
      "\u001b[1;32m~\\Desktop\\Old uni\\Thesis\\git_thesis\\define_dataset.py\u001b[0m in \u001b[0;36mdefine_dataset\u001b[1;34m()\u001b[0m\n\u001b[0;32m     14\u001b[0m     \u001b[1;31m#gets element from excel results file\u001b[0m\u001b[1;33m\u001b[0m\u001b[1;33m\u001b[0m\u001b[1;33m\u001b[0m\u001b[0m\n\u001b[0;32m     15\u001b[0m     \u001b[0mdata\u001b[0m \u001b[1;33m=\u001b[0m \u001b[1;33m[\u001b[0m\u001b[1;33m]\u001b[0m\u001b[1;33m\u001b[0m\u001b[1;33m\u001b[0m\u001b[0m\n\u001b[1;32m---> 16\u001b[1;33m     \u001b[0mdf_positives\u001b[0m \u001b[1;33m=\u001b[0m \u001b[0mpd\u001b[0m\u001b[1;33m.\u001b[0m\u001b[0mread_excel\u001b[0m\u001b[1;33m(\u001b[0m\u001b[1;34m'../WSI/thesis_WSI/resultsWSI.ods'\u001b[0m\u001b[1;33m,\u001b[0m \u001b[0msheet_name\u001b[0m\u001b[1;33m=\u001b[0m\u001b[1;34m'PD-L1 POSITIVE'\u001b[0m\u001b[1;33m,\u001b[0m \u001b[0mheader\u001b[0m\u001b[1;33m=\u001b[0m\u001b[1;32mNone\u001b[0m\u001b[1;33m)\u001b[0m\u001b[1;33m\u001b[0m\u001b[1;33m\u001b[0m\u001b[0m\n\u001b[0m\u001b[0;32m     17\u001b[0m     \u001b[0mdf_negatives\u001b[0m \u001b[1;33m=\u001b[0m \u001b[0mpd\u001b[0m\u001b[1;33m.\u001b[0m\u001b[0mread_excel\u001b[0m\u001b[1;33m(\u001b[0m\u001b[1;34m'../WSI/thesis_WSI/resultsWSI.ods'\u001b[0m\u001b[1;33m,\u001b[0m \u001b[0msheet_name\u001b[0m\u001b[1;33m=\u001b[0m\u001b[1;34m'PD-L1 NEGATIVE'\u001b[0m\u001b[1;33m,\u001b[0m \u001b[0mheader\u001b[0m\u001b[1;33m=\u001b[0m\u001b[1;32mNone\u001b[0m\u001b[1;33m)\u001b[0m\u001b[1;33m\u001b[0m\u001b[1;33m\u001b[0m\u001b[0m\n\u001b[0;32m     18\u001b[0m \u001b[1;33m\u001b[0m\u001b[0m\n",
      "\u001b[1;32m~\\anaconda3\\envs\\PythonGPU\\lib\\site-packages\\pandas\\util\\_decorators.py\u001b[0m in \u001b[0;36mwrapper\u001b[1;34m(*args, **kwargs)\u001b[0m\n\u001b[0;32m    309\u001b[0m                     \u001b[0mstacklevel\u001b[0m\u001b[1;33m=\u001b[0m\u001b[0mstacklevel\u001b[0m\u001b[1;33m,\u001b[0m\u001b[1;33m\u001b[0m\u001b[1;33m\u001b[0m\u001b[0m\n\u001b[0;32m    310\u001b[0m                 )\n\u001b[1;32m--> 311\u001b[1;33m             \u001b[1;32mreturn\u001b[0m \u001b[0mfunc\u001b[0m\u001b[1;33m(\u001b[0m\u001b[1;33m*\u001b[0m\u001b[0margs\u001b[0m\u001b[1;33m,\u001b[0m \u001b[1;33m**\u001b[0m\u001b[0mkwargs\u001b[0m\u001b[1;33m)\u001b[0m\u001b[1;33m\u001b[0m\u001b[1;33m\u001b[0m\u001b[0m\n\u001b[0m\u001b[0;32m    312\u001b[0m \u001b[1;33m\u001b[0m\u001b[0m\n\u001b[0;32m    313\u001b[0m         \u001b[1;32mreturn\u001b[0m \u001b[0mwrapper\u001b[0m\u001b[1;33m\u001b[0m\u001b[1;33m\u001b[0m\u001b[0m\n",
      "\u001b[1;32m~\\anaconda3\\envs\\PythonGPU\\lib\\site-packages\\pandas\\io\\excel\\_base.py\u001b[0m in \u001b[0;36mread_excel\u001b[1;34m(io, sheet_name, header, names, index_col, usecols, squeeze, dtype, engine, converters, true_values, false_values, skiprows, nrows, na_values, keep_default_na, na_filter, verbose, parse_dates, date_parser, thousands, comment, skipfooter, convert_float, mangle_dupe_cols, storage_options)\u001b[0m\n\u001b[0;32m    362\u001b[0m     \u001b[1;32mif\u001b[0m \u001b[1;32mnot\u001b[0m \u001b[0misinstance\u001b[0m\u001b[1;33m(\u001b[0m\u001b[0mio\u001b[0m\u001b[1;33m,\u001b[0m \u001b[0mExcelFile\u001b[0m\u001b[1;33m)\u001b[0m\u001b[1;33m:\u001b[0m\u001b[1;33m\u001b[0m\u001b[1;33m\u001b[0m\u001b[0m\n\u001b[0;32m    363\u001b[0m         \u001b[0mshould_close\u001b[0m \u001b[1;33m=\u001b[0m \u001b[1;32mTrue\u001b[0m\u001b[1;33m\u001b[0m\u001b[1;33m\u001b[0m\u001b[0m\n\u001b[1;32m--> 364\u001b[1;33m         \u001b[0mio\u001b[0m \u001b[1;33m=\u001b[0m \u001b[0mExcelFile\u001b[0m\u001b[1;33m(\u001b[0m\u001b[0mio\u001b[0m\u001b[1;33m,\u001b[0m \u001b[0mstorage_options\u001b[0m\u001b[1;33m=\u001b[0m\u001b[0mstorage_options\u001b[0m\u001b[1;33m,\u001b[0m \u001b[0mengine\u001b[0m\u001b[1;33m=\u001b[0m\u001b[0mengine\u001b[0m\u001b[1;33m)\u001b[0m\u001b[1;33m\u001b[0m\u001b[1;33m\u001b[0m\u001b[0m\n\u001b[0m\u001b[0;32m    365\u001b[0m     \u001b[1;32melif\u001b[0m \u001b[0mengine\u001b[0m \u001b[1;32mand\u001b[0m \u001b[0mengine\u001b[0m \u001b[1;33m!=\u001b[0m \u001b[0mio\u001b[0m\u001b[1;33m.\u001b[0m\u001b[0mengine\u001b[0m\u001b[1;33m:\u001b[0m\u001b[1;33m\u001b[0m\u001b[1;33m\u001b[0m\u001b[0m\n\u001b[0;32m    366\u001b[0m         raise ValueError(\n",
      "\u001b[1;32m~\\anaconda3\\envs\\PythonGPU\\lib\\site-packages\\pandas\\io\\excel\\_base.py\u001b[0m in \u001b[0;36m__init__\u001b[1;34m(self, path_or_buffer, engine, storage_options)\u001b[0m\n\u001b[0;32m   1190\u001b[0m             \u001b[1;32melse\u001b[0m\u001b[1;33m:\u001b[0m\u001b[1;33m\u001b[0m\u001b[1;33m\u001b[0m\u001b[0m\n\u001b[0;32m   1191\u001b[0m                 ext = inspect_excel_format(\n\u001b[1;32m-> 1192\u001b[1;33m                     \u001b[0mcontent_or_path\u001b[0m\u001b[1;33m=\u001b[0m\u001b[0mpath_or_buffer\u001b[0m\u001b[1;33m,\u001b[0m \u001b[0mstorage_options\u001b[0m\u001b[1;33m=\u001b[0m\u001b[0mstorage_options\u001b[0m\u001b[1;33m\u001b[0m\u001b[1;33m\u001b[0m\u001b[0m\n\u001b[0m\u001b[0;32m   1193\u001b[0m                 )\n\u001b[0;32m   1194\u001b[0m                 \u001b[1;32mif\u001b[0m \u001b[0mext\u001b[0m \u001b[1;32mis\u001b[0m \u001b[1;32mNone\u001b[0m\u001b[1;33m:\u001b[0m\u001b[1;33m\u001b[0m\u001b[1;33m\u001b[0m\u001b[0m\n",
      "\u001b[1;32m~\\anaconda3\\envs\\PythonGPU\\lib\\site-packages\\pandas\\io\\excel\\_base.py\u001b[0m in \u001b[0;36minspect_excel_format\u001b[1;34m(content_or_path, storage_options)\u001b[0m\n\u001b[0;32m   1069\u001b[0m \u001b[1;33m\u001b[0m\u001b[0m\n\u001b[0;32m   1070\u001b[0m     with get_handle(\n\u001b[1;32m-> 1071\u001b[1;33m         \u001b[0mcontent_or_path\u001b[0m\u001b[1;33m,\u001b[0m \u001b[1;34m\"rb\"\u001b[0m\u001b[1;33m,\u001b[0m \u001b[0mstorage_options\u001b[0m\u001b[1;33m=\u001b[0m\u001b[0mstorage_options\u001b[0m\u001b[1;33m,\u001b[0m \u001b[0mis_text\u001b[0m\u001b[1;33m=\u001b[0m\u001b[1;32mFalse\u001b[0m\u001b[1;33m\u001b[0m\u001b[1;33m\u001b[0m\u001b[0m\n\u001b[0m\u001b[0;32m   1072\u001b[0m     ) as handle:\n\u001b[0;32m   1073\u001b[0m         \u001b[0mstream\u001b[0m \u001b[1;33m=\u001b[0m \u001b[0mhandle\u001b[0m\u001b[1;33m.\u001b[0m\u001b[0mhandle\u001b[0m\u001b[1;33m\u001b[0m\u001b[1;33m\u001b[0m\u001b[0m\n",
      "\u001b[1;32m~\\anaconda3\\envs\\PythonGPU\\lib\\site-packages\\pandas\\io\\common.py\u001b[0m in \u001b[0;36mget_handle\u001b[1;34m(path_or_buf, mode, encoding, compression, memory_map, is_text, errors, storage_options)\u001b[0m\n\u001b[0;32m    709\u001b[0m         \u001b[1;32melse\u001b[0m\u001b[1;33m:\u001b[0m\u001b[1;33m\u001b[0m\u001b[1;33m\u001b[0m\u001b[0m\n\u001b[0;32m    710\u001b[0m             \u001b[1;31m# Binary mode\u001b[0m\u001b[1;33m\u001b[0m\u001b[1;33m\u001b[0m\u001b[1;33m\u001b[0m\u001b[0m\n\u001b[1;32m--> 711\u001b[1;33m             \u001b[0mhandle\u001b[0m \u001b[1;33m=\u001b[0m \u001b[0mopen\u001b[0m\u001b[1;33m(\u001b[0m\u001b[0mhandle\u001b[0m\u001b[1;33m,\u001b[0m \u001b[0mioargs\u001b[0m\u001b[1;33m.\u001b[0m\u001b[0mmode\u001b[0m\u001b[1;33m)\u001b[0m\u001b[1;33m\u001b[0m\u001b[1;33m\u001b[0m\u001b[0m\n\u001b[0m\u001b[0;32m    712\u001b[0m         \u001b[0mhandles\u001b[0m\u001b[1;33m.\u001b[0m\u001b[0mappend\u001b[0m\u001b[1;33m(\u001b[0m\u001b[0mhandle\u001b[0m\u001b[1;33m)\u001b[0m\u001b[1;33m\u001b[0m\u001b[1;33m\u001b[0m\u001b[0m\n\u001b[0;32m    713\u001b[0m \u001b[1;33m\u001b[0m\u001b[0m\n",
      "\u001b[1;31mFileNotFoundError\u001b[0m: [Errno 2] No such file or directory: '../WSI/thesis_WSI/resultsWSI.ods'"
     ]
    }
   ],
   "source": [
    "dataset = define_dataset()\n",
    "tr_set = dataset.tr_set\n",
    "test_set = dataset.test_set\n",
    "results_dict = dataset.results_dict\n",
    "num_positives = dataset.num_positives\n",
    "num_negatives = dataset.num_negatives"
   ]
  },
  {
   "cell_type": "code",
   "execution_count": 3,
   "id": "679df5d8-dd29-41b5-8ce9-fbf118d994cf",
   "metadata": {},
   "outputs": [],
   "source": [
    "def calculate_pdl1_score(slide_name, level, ROI_threshold, threshold_brown, base_brown, use_normalized=False):\n",
    "    \n",
    "    wsi_path = '../WSI/thesis_WSI/'+slide_name+'/'+slide_name+'.tiff'\n",
    "    if use_normalized:\n",
    "        ROI_map_path = '../WSI/thesis_WSI/'+slide_name+'/roi_'+str(ROI_threshold)+'_enhanced.npy'\n",
    "    else:\n",
    "        #loads ROI saved array with indicated threshold applied\n",
    "        ROI_map_path = '../WSI/thesis_WSI/'+slide_name+'/roi_'+str(ROI_threshold)+'.npy'\n",
    "    \n",
    "    \n",
    "    ROI_map_arr = np.load(ROI_map_path)\n",
    "    \n",
    "    wsi = openslide.OpenSlide(wsi_path)\n",
    "    width_in_tiles = ROI_map_arr.shape[1]\n",
    "    height_in_tiles = ROI_map_arr.shape[0]\n",
    "    num_ROI_tiles = np.sum(ROI_map_arr>0)\n",
    "\n",
    "    \n",
    "    full_tile_size = int(wsi.dimensions[0]/width_in_tiles)\n",
    "    level_tile_size = int(full_tile_size/(2**level))\n",
    "    num_pdl1_pixel = 0\n",
    "    for x in range(width_in_tiles):\n",
    "        print(wsi_path,': col ', x, ' of ', width_in_tiles, end=\"\\r\")\n",
    "        for y in range(height_in_tiles):\n",
    "            if ROI_map_arr[y][x] == 1:\n",
    "                tile = wsi.read_region((x*full_tile_size,y*full_tile_size), level, (level_tile_size,level_tile_size))\n",
    "                num_pdl1_pixel += color_distance(tile, base_brown, threshold_brown)\n",
    "    print('\\n')\n",
    "    total_ROI_pixel_area = (level_tile_size*level_tile_size)*num_ROI_tiles\n",
    "    pdl1_ratio = num_pdl1_pixel/total_ROI_pixel_area\n",
    "    return pdl1_ratio"
   ]
  },
  {
   "cell_type": "code",
   "execution_count": 26,
   "id": "2a430f55-9ab1-40b4-b3cf-19772b8162d1",
   "metadata": {},
   "outputs": [],
   "source": [
    "def find_classification_threshold(perc_arr, slide_set):\n",
    "    min_errors_threshold = 0\n",
    "    min_errors = len(slide_set)\n",
    "    \n",
    "    #set threshold at every score in result percentages array\n",
    "    for perc in perc_arr:\n",
    "        classification_threshold = round(perc, 5)\n",
    "        errors = 0\n",
    "\n",
    "        for i, slide_name in enumerate(slide_set):\n",
    "            score = perc_arr[i]\n",
    "            if score < classification_threshold:\n",
    "                if results_dict[slide_name] != 0:\n",
    "                    #print(slide_name,\"%.2f%%\" % (score*100), ': negative ok')\n",
    "                    #print(slide_name,\"%.2f%%\" % (score*100),  ': not ok, should be positive')\n",
    "                    errors+=1\n",
    "            else:\n",
    "                if results_dict[slide_name] != 1:\n",
    "                    #print(slide_name,\"%.2f%%\" % (score*100),  ': positive ok')\n",
    "                    #print(slide_name,\"%.2f%%\" % (score*100),  ': not ok, should be negative')\n",
    "                    errors+=1\n",
    "        \n",
    "        if errors <= min_errors:\n",
    "            min_errors = errors\n",
    "            min_errors_threshold = classification_threshold\n",
    "        \n",
    "    return (min_errors_threshold, min_errors)\n",
    "\n",
    "   "
   ]
  },
  {
   "cell_type": "code",
   "execution_count": 27,
   "id": "586ca4a2-e882-4287-bbbb-7d5038bc0c05",
   "metadata": {},
   "outputs": [],
   "source": [
    "def save_results(classification_threshold, errors, start_time, end_time, level, ROI_threshold, threshold_brown, use_normalized, is_test_set=False):\n",
    "    #save stats with best found tuse_normalized\n",
    "    if is_test_set:\n",
    "        if use_normalized:\n",
    "            f = open('./base_model_test_res/normalized/r'+str(ROI_threshold)+'b'+str(threshold_brown)+'.txt', 'w')\n",
    "        else:\n",
    "            f = open('./base_model_test_res/not_normalized/r'+str(ROI_threshold)+'b'+str(threshold_brown)+'.txt', 'w')\n",
    "    else:\n",
    "        if use_normalized:\n",
    "            f = open('./base_model_res/grid_search_normalized/r'+str(ROI_threshold)+'b'+str(threshold_brown)+'.txt', 'w')\n",
    "        else:\n",
    "            f = open('./base_model_res/grid_search/r'+str(ROI_threshold)+'b'+str(threshold_brown)+'.txt', 'w')\n",
    "    f.write('level: '+str(level)+'\\n')\n",
    "    f.write('ROI_threshold: '+str(ROI_threshold)+'\\n')\n",
    "    f.write('threshold_brown: '+str(threshold_brown)+'\\n')\n",
    "    f.write('time: '+str(end_time-start_time)+'\\n')\n",
    "    f.write('classification_threshold: '+str(classification_threshold*100)+'%\\n')\n",
    "    f.write('errors: '+str(errors)+'\\n')\n",
    "    if is_test_set:\n",
    "         for i, slide_name in enumerate(test_set):\n",
    "            f.write(slide_name+': '+str(\"%.3f%%\" % (perc_arr[i]*100))+'\\n')\n",
    "    else: \n",
    "        for i, slide_name in enumerate(tr_set):\n",
    "            f.write(slide_name+': '+str(\"%.3f%%\" % (perc_arr[i]*100))+'\\n')\n",
    "        \n",
    "    f.close()"
   ]
  },
  {
   "cell_type": "markdown",
   "id": "c77cbd59-8c38-41bb-980c-7d052ac166d7",
   "metadata": {},
   "source": [
    "Grid search tr set"
   ]
  },
  {
   "cell_type": "code",
   "execution_count": 22,
   "id": "34738f90-4611-4494-8394-ec8abc69053e",
   "metadata": {},
   "outputs": [
    {
     "name": "stdout",
     "output_type": "stream",
     "text": [
      "../WSI/thesis_WSI/19-COMP-004/19-COMP-004.tiff : col  16  of  160\r"
     ]
    },
    {
     "ename": "KeyboardInterrupt",
     "evalue": "",
     "output_type": "error",
     "traceback": [
      "\u001b[1;31m---------------------------------------------------------------------------\u001b[0m",
      "\u001b[1;31mKeyboardInterrupt\u001b[0m                         Traceback (most recent call last)",
      "\u001b[1;32m<ipython-input-22-0150e4eb0f47>\u001b[0m in \u001b[0;36m<module>\u001b[1;34m\u001b[0m\n\u001b[0;32m     13\u001b[0m \u001b[1;33m\u001b[0m\u001b[0m\n\u001b[0;32m     14\u001b[0m         \u001b[1;32mfor\u001b[0m \u001b[0mslide_name\u001b[0m \u001b[1;32min\u001b[0m \u001b[0mtr_set\u001b[0m\u001b[1;33m:\u001b[0m\u001b[1;33m\u001b[0m\u001b[1;33m\u001b[0m\u001b[0m\n\u001b[1;32m---> 15\u001b[1;33m             \u001b[0mscore\u001b[0m \u001b[1;33m=\u001b[0m \u001b[0mcalculate_pdl1_score\u001b[0m\u001b[1;33m(\u001b[0m\u001b[0mslide_name\u001b[0m\u001b[1;33m,\u001b[0m \u001b[0mlevel\u001b[0m\u001b[1;33m,\u001b[0m \u001b[0mROI_threshold\u001b[0m\u001b[1;33m,\u001b[0m \u001b[0mthreshold_brown\u001b[0m\u001b[1;33m,\u001b[0m \u001b[0mbase_brown\u001b[0m\u001b[1;33m,\u001b[0m \u001b[0muse_normalized\u001b[0m\u001b[1;33m=\u001b[0m\u001b[0muse_normalized\u001b[0m\u001b[1;33m)\u001b[0m\u001b[1;33m\u001b[0m\u001b[1;33m\u001b[0m\u001b[0m\n\u001b[0m\u001b[0;32m     16\u001b[0m             \u001b[1;31m#print(slide_name, \" percentage PD-L1 pixels:\", \"%.2f%%\" % (score*100))\u001b[0m\u001b[1;33m\u001b[0m\u001b[1;33m\u001b[0m\u001b[1;33m\u001b[0m\u001b[0m\n\u001b[0;32m     17\u001b[0m             \u001b[0mperc_arr\u001b[0m\u001b[1;33m.\u001b[0m\u001b[0mappend\u001b[0m\u001b[1;33m(\u001b[0m\u001b[0mscore\u001b[0m\u001b[1;33m)\u001b[0m\u001b[1;33m\u001b[0m\u001b[1;33m\u001b[0m\u001b[0m\n",
      "\u001b[1;32m<ipython-input-19-b2c5543477b4>\u001b[0m in \u001b[0;36mcalculate_pdl1_score\u001b[1;34m(slide_name, level, ROI_threshold, threshold_brown, base_brown, use_normalized)\u001b[0m\n\u001b[0;32m     24\u001b[0m         \u001b[1;32mfor\u001b[0m \u001b[0my\u001b[0m \u001b[1;32min\u001b[0m \u001b[0mrange\u001b[0m\u001b[1;33m(\u001b[0m\u001b[0mheight_in_tiles\u001b[0m\u001b[1;33m)\u001b[0m\u001b[1;33m:\u001b[0m\u001b[1;33m\u001b[0m\u001b[1;33m\u001b[0m\u001b[0m\n\u001b[0;32m     25\u001b[0m             \u001b[1;32mif\u001b[0m \u001b[0mROI_map_arr\u001b[0m\u001b[1;33m[\u001b[0m\u001b[0my\u001b[0m\u001b[1;33m]\u001b[0m\u001b[1;33m[\u001b[0m\u001b[0mx\u001b[0m\u001b[1;33m]\u001b[0m \u001b[1;33m==\u001b[0m \u001b[1;36m1\u001b[0m\u001b[1;33m:\u001b[0m\u001b[1;33m\u001b[0m\u001b[1;33m\u001b[0m\u001b[0m\n\u001b[1;32m---> 26\u001b[1;33m                 \u001b[0mtile\u001b[0m \u001b[1;33m=\u001b[0m \u001b[0mwsi\u001b[0m\u001b[1;33m.\u001b[0m\u001b[0mread_region\u001b[0m\u001b[1;33m(\u001b[0m\u001b[1;33m(\u001b[0m\u001b[0mx\u001b[0m\u001b[1;33m*\u001b[0m\u001b[0mfull_tile_size\u001b[0m\u001b[1;33m,\u001b[0m\u001b[0my\u001b[0m\u001b[1;33m*\u001b[0m\u001b[0mfull_tile_size\u001b[0m\u001b[1;33m)\u001b[0m\u001b[1;33m,\u001b[0m \u001b[0mlevel\u001b[0m\u001b[1;33m,\u001b[0m \u001b[1;33m(\u001b[0m\u001b[0mlevel_tile_size\u001b[0m\u001b[1;33m,\u001b[0m\u001b[0mlevel_tile_size\u001b[0m\u001b[1;33m)\u001b[0m\u001b[1;33m)\u001b[0m\u001b[1;33m\u001b[0m\u001b[1;33m\u001b[0m\u001b[0m\n\u001b[0m\u001b[0;32m     27\u001b[0m                 \u001b[0mnum_pdl1_pixel\u001b[0m \u001b[1;33m+=\u001b[0m \u001b[0mcolor_distance\u001b[0m\u001b[1;33m(\u001b[0m\u001b[0mtile\u001b[0m\u001b[1;33m,\u001b[0m \u001b[0mbase_brown\u001b[0m\u001b[1;33m,\u001b[0m \u001b[0mthreshold_brown\u001b[0m\u001b[1;33m)\u001b[0m\u001b[1;33m\u001b[0m\u001b[1;33m\u001b[0m\u001b[0m\n\u001b[0;32m     28\u001b[0m     \u001b[0mprint\u001b[0m\u001b[1;33m(\u001b[0m\u001b[1;34m'\\n'\u001b[0m\u001b[1;33m)\u001b[0m\u001b[1;33m\u001b[0m\u001b[1;33m\u001b[0m\u001b[0m\n",
      "\u001b[1;32m~\\anaconda3\\envs\\PythonGPU\\lib\\site-packages\\openslide\\__init__.py\u001b[0m in \u001b[0;36mread_region\u001b[1;34m(self, location, level, size)\u001b[0m\n\u001b[0;32m    227\u001b[0m         function is not premultiplied.\"\"\"\n\u001b[0;32m    228\u001b[0m         return lowlevel.read_region(self._osr, location[0], location[1],\n\u001b[1;32m--> 229\u001b[1;33m                 level, size[0], size[1])\n\u001b[0m\u001b[0;32m    230\u001b[0m \u001b[1;33m\u001b[0m\u001b[0m\n\u001b[0;32m    231\u001b[0m \u001b[1;33m\u001b[0m\u001b[0m\n",
      "\u001b[1;32m~\\anaconda3\\envs\\PythonGPU\\lib\\site-packages\\openslide\\lowlevel.py\u001b[0m in \u001b[0;36mread_region\u001b[1;34m(slide, x, y, level, w, h)\u001b[0m\n\u001b[0;32m    214\u001b[0m         \u001b[1;32mreturn\u001b[0m \u001b[0mPIL\u001b[0m\u001b[1;33m.\u001b[0m\u001b[0mImage\u001b[0m\u001b[1;33m.\u001b[0m\u001b[0mnew\u001b[0m\u001b[1;33m(\u001b[0m\u001b[1;34m'RGBA'\u001b[0m\u001b[1;33m,\u001b[0m \u001b[1;33m(\u001b[0m\u001b[0mw\u001b[0m\u001b[1;33m,\u001b[0m \u001b[0mh\u001b[0m\u001b[1;33m)\u001b[0m\u001b[1;33m)\u001b[0m\u001b[1;33m\u001b[0m\u001b[1;33m\u001b[0m\u001b[0m\n\u001b[0;32m    215\u001b[0m     \u001b[0mbuf\u001b[0m \u001b[1;33m=\u001b[0m \u001b[1;33m(\u001b[0m\u001b[0mw\u001b[0m \u001b[1;33m*\u001b[0m \u001b[0mh\u001b[0m \u001b[1;33m*\u001b[0m \u001b[0mc_uint32\u001b[0m\u001b[1;33m)\u001b[0m\u001b[1;33m(\u001b[0m\u001b[1;33m)\u001b[0m\u001b[1;33m\u001b[0m\u001b[1;33m\u001b[0m\u001b[0m\n\u001b[1;32m--> 216\u001b[1;33m     \u001b[0m_read_region\u001b[0m\u001b[1;33m(\u001b[0m\u001b[0mslide\u001b[0m\u001b[1;33m,\u001b[0m \u001b[0mbuf\u001b[0m\u001b[1;33m,\u001b[0m \u001b[0mx\u001b[0m\u001b[1;33m,\u001b[0m \u001b[0my\u001b[0m\u001b[1;33m,\u001b[0m \u001b[0mlevel\u001b[0m\u001b[1;33m,\u001b[0m \u001b[0mw\u001b[0m\u001b[1;33m,\u001b[0m \u001b[0mh\u001b[0m\u001b[1;33m)\u001b[0m\u001b[1;33m\u001b[0m\u001b[1;33m\u001b[0m\u001b[0m\n\u001b[0m\u001b[0;32m    217\u001b[0m     \u001b[1;32mreturn\u001b[0m \u001b[0m_load_image\u001b[0m\u001b[1;33m(\u001b[0m\u001b[0mbuf\u001b[0m\u001b[1;33m,\u001b[0m \u001b[1;33m(\u001b[0m\u001b[0mw\u001b[0m\u001b[1;33m,\u001b[0m \u001b[0mh\u001b[0m\u001b[1;33m)\u001b[0m\u001b[1;33m)\u001b[0m\u001b[1;33m\u001b[0m\u001b[1;33m\u001b[0m\u001b[0m\n\u001b[0;32m    218\u001b[0m \u001b[1;33m\u001b[0m\u001b[0m\n",
      "\u001b[1;32m~\\anaconda3\\envs\\PythonGPU\\lib\\site-packages\\openslide\\lowlevel.py\u001b[0m in \u001b[0;36m_check_error\u001b[1;34m(result, func, args)\u001b[0m\n\u001b[0;32m    148\u001b[0m \u001b[1;33m\u001b[0m\u001b[0m\n\u001b[0;32m    149\u001b[0m \u001b[1;31m# check if the library got into an error state after each library call\u001b[0m\u001b[1;33m\u001b[0m\u001b[1;33m\u001b[0m\u001b[1;33m\u001b[0m\u001b[0m\n\u001b[1;32m--> 150\u001b[1;33m \u001b[1;32mdef\u001b[0m \u001b[0m_check_error\u001b[0m\u001b[1;33m(\u001b[0m\u001b[0mresult\u001b[0m\u001b[1;33m,\u001b[0m \u001b[0mfunc\u001b[0m\u001b[1;33m,\u001b[0m \u001b[0margs\u001b[0m\u001b[1;33m)\u001b[0m\u001b[1;33m:\u001b[0m\u001b[1;33m\u001b[0m\u001b[1;33m\u001b[0m\u001b[0m\n\u001b[0m\u001b[0;32m    151\u001b[0m     \u001b[0merr\u001b[0m \u001b[1;33m=\u001b[0m \u001b[0mget_error\u001b[0m\u001b[1;33m(\u001b[0m\u001b[0margs\u001b[0m\u001b[1;33m[\u001b[0m\u001b[1;36m0\u001b[0m\u001b[1;33m]\u001b[0m\u001b[1;33m)\u001b[0m\u001b[1;33m\u001b[0m\u001b[1;33m\u001b[0m\u001b[0m\n\u001b[0;32m    152\u001b[0m     \u001b[1;32mif\u001b[0m \u001b[0merr\u001b[0m \u001b[1;32mis\u001b[0m \u001b[1;32mnot\u001b[0m \u001b[1;32mNone\u001b[0m\u001b[1;33m:\u001b[0m\u001b[1;33m\u001b[0m\u001b[1;33m\u001b[0m\u001b[0m\n",
      "\u001b[1;31mKeyboardInterrupt\u001b[0m: "
     ]
    }
   ],
   "source": [
    "level = 2\n",
    "base_brown = [117.3, 88.9, 67.3]\n",
    "use_normalized = False\n",
    "ROI_threshold_arr = [0.85, 0.9, 0.95]\n",
    "threshold_brown_arr = [9]\n",
    "\n",
    "\n",
    "for ROI_threshold in ROI_threshold_arr:\n",
    "    for threshold_brown in threshold_brown_arr:\n",
    "        start_time = time.time()\n",
    "\n",
    "        perc_arr = []\n",
    "\n",
    "        for slide_name in tr_set:\n",
    "            score = calculate_pdl1_score(slide_name, level, ROI_threshold, threshold_brown, base_brown, use_normalized=use_normalized) \n",
    "            #print(slide_name, \" percentage PD-L1 pixels:\", \"%.2f%%\" % (score*100))\n",
    "            perc_arr.append(score)\n",
    "            \n",
    "        classification_threshold, errors = find_classification_threshold(perc_arr, tr_set)        \n",
    "            \n",
    "        end_time = time.time()\n",
    "        print('time: ', \"{:.0f}\".format(end_time - start_time))\n",
    "        \n",
    "        save_results(classification_threshold, errors, start_time, end_time, level, ROI_threshold,\n",
    "                     threshold_brown, use_normalized, is_test_set=False)\n",
    "        "
   ]
  },
  {
   "cell_type": "markdown",
   "id": "1b00a2c0-add0-4cd2-ab78-9c2dd5473fe9",
   "metadata": {},
   "source": [
    "Test set"
   ]
  },
  {
   "cell_type": "code",
   "execution_count": 28,
   "id": "454f0aad-b79c-4217-90f9-7f1bdb137152",
   "metadata": {},
   "outputs": [],
   "source": [
    "def set_classification_threshold(classification_threshold, slide_set, perc_arr):\n",
    "    errors = 0\n",
    "\n",
    "    for i, slide_name in enumerate(slide_set):\n",
    "        score = perc_arr[i]\n",
    "        if score < classification_threshold:\n",
    "            if results_dict[slide_name] != 0:\n",
    "                #print(slide_name,\"%.2f%%\" % (score*100), ': negative ok')\n",
    "                #print(slide_name,\"%.2f%%\" % (score*100),  ': not ok, should be positive')\n",
    "                errors+=1\n",
    "        else:\n",
    "            if results_dict[slide_name] != 1:\n",
    "                #print(slide_name,\"%.2f%%\" % (score*100),  ': positive ok')\n",
    "                #print(slide_name,\"%.2f%%\" % (score*100),  ': not ok, should be negative')\n",
    "                errors+=1\n",
    "    return errors"
   ]
  },
  {
   "cell_type": "code",
   "execution_count": 29,
   "id": "8adf1def-d047-4fb4-bd2a-00a46a3b4eef",
   "metadata": {
    "tags": []
   },
   "outputs": [
    {
     "name": "stdout",
     "output_type": "stream",
     "text": [
      "../WSI/thesis_WSI/20-COMP-077/20-COMP-077.tiff : col  295  of  296\n",
      "\n",
      "../WSI/thesis_WSI/20-COMP-065/20-COMP-065.tiff : col  327  of  328328\n",
      "\n",
      "../WSI/thesis_WSI/19-COMP-039/19-COMP-039.tiff : col  335  of  336 336\n",
      "\n",
      "../WSI/thesis_WSI/20-COMP-102/20-COMP-102.tiff : col  247  of  248\n",
      "\n",
      "../WSI/thesis_WSI/19-COMP-037/19-COMP-037.tiff : col  303  of  304 of  304: col  32  of  304304  of  304\n",
      "\n",
      "../WSI/thesis_WSI/19-COMP-026/19-COMP-026.tiff : col  295  of  296\n",
      "\n",
      "time:  1088\n",
      "../WSI/thesis_WSI/20-COMP-077/20-COMP-077.tiff : col  295  of  296\n",
      "\n",
      "../WSI/thesis_WSI/20-COMP-065/20-COMP-065.tiff : col  327  of  328\n",
      "\n",
      "../WSI/thesis_WSI/19-COMP-039/19-COMP-039.tiff : col  335  of  336\n",
      "\n",
      "../WSI/thesis_WSI/20-COMP-102/20-COMP-102.tiff : col  247  of  24848\n",
      "\n",
      "../WSI/thesis_WSI/19-COMP-037/19-COMP-037.tiff : col  303  of  304\n",
      "\n",
      "../WSI/thesis_WSI/19-COMP-026/19-COMP-026.tiff : col  295  of  296\n",
      "\n",
      "time:  918\n"
     ]
    }
   ],
   "source": [
    "level = 2\n",
    "base_brown = [117.3, 88.9, 67.3]\n",
    "use_normalized = True\n",
    "ROI_threshold_arr = [0.85]\n",
    "threshold_brown_arr = [9, 13]\n",
    "classification_threshold_arr_85 = [[0.00045, 0.00075]]\n",
    "\n",
    "\n",
    "for i, ROI_threshold in enumerate(ROI_threshold_arr):\n",
    "    for j, threshold_brown in enumerate(threshold_brown_arr):\n",
    "        start_time = time.time()\n",
    "\n",
    "        classification_threshold = classification_threshold_arr_85[i][j]\n",
    "        perc_arr = []\n",
    "\n",
    "        for slide_name in test_set:\n",
    "            score = calculate_pdl1_score(slide_name, level, ROI_threshold, threshold_brown, base_brown, use_normalized=use_normalized) \n",
    "            #print(slide_name, \" percentage PD-L1 pixels:\", \"%.2f%%\" % (score*100))\n",
    "            perc_arr.append(score)\n",
    "            \n",
    "        end_time = time.time()\n",
    "        print('time: ', \"{:.0f}\".format(end_time - start_time))\n",
    "        \n",
    "        errors = set_classification_threshold(classification_threshold, test_set, perc_arr)\n",
    "        save_results(classification_threshold, errors, start_time, end_time, level, ROI_threshold, threshold_brown, use_normalized, is_test_set=True)\n"
   ]
  }
 ],
 "metadata": {
  "kernelspec": {
   "display_name": "Python 3",
   "language": "python",
   "name": "python3"
  },
  "language_info": {
   "codemirror_mode": {
    "name": "ipython",
    "version": 3
   },
   "file_extension": ".py",
   "mimetype": "text/x-python",
   "name": "python",
   "nbconvert_exporter": "python",
   "pygments_lexer": "ipython3",
   "version": "3.7.11"
  }
 },
 "nbformat": 4,
 "nbformat_minor": 5
}

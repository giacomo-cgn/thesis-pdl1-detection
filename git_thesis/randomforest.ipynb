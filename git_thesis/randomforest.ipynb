{
 "cells": [
  {
   "cell_type": "code",
   "execution_count": 1,
   "id": "fab59616-29c4-4f75-9a49-56e173148fea",
   "metadata": {},
   "outputs": [],
   "source": [
    "import numpy as np\n",
    "import matplotlib.pyplot as plt\n",
    "from define_dataset import define_dataset\n",
    "import time\n",
    "from sklearn.model_selection import cross_val_score\n",
    "from sklearn.ensemble import RandomForestClassifier\n",
    "from sklearn.model_selection import GridSearchCV\n",
    "from sklearn.metrics import accuracy_score"
   ]
  },
  {
   "cell_type": "code",
   "execution_count": 2,
   "id": "2592193a-a722-4bc9-aa4c-3d4d05113c80",
   "metadata": {},
   "outputs": [],
   "source": [
    "def build_model(X, y):\n",
    "    params = [{\n",
    "    'bootstrap': [True, False],\n",
    "    'max_depth': [100, None],\n",
    "    'max_features': ['auto', 'log2'],\n",
    "    'min_samples_leaf': [1, 2],\n",
    "    #'min_samples_split': [2, 4, 8],\n",
    "    'n_estimators': [100, 500, 1000]\n",
    "    }] \n",
    "    clf = GridSearchCV(RandomForestClassifier(), params, refit = True, cv=6)\n",
    "    clf.fit(X, y)\n",
    "    print(\"Best parameters set found:\")\n",
    "    print(clf.best_params_)\n",
    "    print(\"Best score found:\")\n",
    "    print(clf.best_score_)\n",
    "    return(clf.best_score_, clf.best_estimator_)"
   ]
  },
  {
   "cell_type": "code",
   "execution_count": 5,
   "id": "0464d100-f242-4be7-91eb-c26fec3050b8",
   "metadata": {
    "tags": []
   },
   "outputs": [
    {
     "name": "stdout",
     "output_type": "stream",
     "text": [
      "Num bins: 40 ROI threshold: 0.85\n",
      "Best parameters set found:\n",
      "{'bootstrap': True, 'max_depth': 100, 'max_features': 'log2', 'min_samples_leaf': 2, 'n_estimators': 1000}\n",
      "Best score found:\n",
      "0.85\n",
      "Num bins: 60 ROI threshold: 0.85\n",
      "Best parameters set found:\n",
      "{'bootstrap': False, 'max_depth': 100, 'max_features': 'log2', 'min_samples_leaf': 1, 'n_estimators': 1000}\n",
      "Best score found:\n",
      "0.85\n",
      "Num bins: 100 ROI threshold: 0.85\n",
      "Best parameters set found:\n",
      "{'bootstrap': True, 'max_depth': 100, 'max_features': 'log2', 'min_samples_leaf': 1, 'n_estimators': 500}\n",
      "Best score found:\n",
      "0.8222222222222223\n",
      "Num bins: 40 ROI threshold: 0.9\n",
      "Best parameters set found:\n",
      "{'bootstrap': True, 'max_depth': 100, 'max_features': 'auto', 'min_samples_leaf': 2, 'n_estimators': 1000}\n",
      "Best score found:\n",
      "0.8222222222222223\n",
      "Num bins: 60 ROI threshold: 0.9\n",
      "Best parameters set found:\n",
      "{'bootstrap': True, 'max_depth': 100, 'max_features': 'log2', 'min_samples_leaf': 2, 'n_estimators': 100}\n",
      "Best score found:\n",
      "0.85\n",
      "Num bins: 100 ROI threshold: 0.9\n",
      "Best parameters set found:\n",
      "{'bootstrap': False, 'max_depth': None, 'max_features': 'log2', 'min_samples_leaf': 1, 'n_estimators': 500}\n",
      "Best score found:\n",
      "0.85\n",
      "Num bins: 40 ROI threshold: 0.95\n",
      "Best parameters set found:\n",
      "{'bootstrap': False, 'max_depth': 100, 'max_features': 'log2', 'min_samples_leaf': 1, 'n_estimators': 1000}\n",
      "Best score found:\n",
      "0.8111111111111112\n",
      "Num bins: 60 ROI threshold: 0.95\n",
      "Best parameters set found:\n",
      "{'bootstrap': False, 'max_depth': 100, 'max_features': 'log2', 'min_samples_leaf': 1, 'n_estimators': 100}\n",
      "Best score found:\n",
      "0.8111111111111112\n",
      "Num bins: 100 ROI threshold: 0.95\n",
      "Best parameters set found:\n",
      "{'bootstrap': False, 'max_depth': 100, 'max_features': 'log2', 'min_samples_leaf': 1, 'n_estimators': 100}\n",
      "Best score found:\n",
      "0.8777777777777778\n"
     ]
    }
   ],
   "source": [
    "dataset = define_dataset()\n",
    "tr_set = dataset.tr_set\n",
    "test_set = dataset.test_set\n",
    "results_dict = dataset.results_dict\n",
    "num_bins_arr = [40, 60, 100]\n",
    "ROI_threshold_arr = [0.85, 0.9, 0.95]\n",
    "best_clf_score = 0\n",
    "\n",
    "for ROI_threshold in ROI_threshold_arr:\n",
    "    for num_bins in num_bins_arr:\n",
    "        X = np.load('bins/bins_arr_'+str(num_bins)+'r'+str(ROI_threshold)+'.npy')\n",
    "        y = np.zeros(np.shape(tr_set), dtype='int')\n",
    "        for i, slide_name in enumerate(tr_set):\n",
    "            y[i] = results_dict[slide_name]\n",
    "        print('Num bins:', num_bins, 'ROI threshold:', ROI_threshold)\n",
    "\n",
    "        (score, clf) = build_model(X, y)\n",
    "        if score >= best_clf_score:\n",
    "            best_clf_score = score\n",
    "            best_clf = clf\n",
    "            best_bins = num_bins\n",
    "            best_ROI = ROI_threshold"
   ]
  },
  {
   "cell_type": "code",
   "execution_count": 8,
   "id": "592161b9-55ae-4a54-ab70-53214f7979d4",
   "metadata": {},
   "outputs": [
    {
     "name": "stdout",
     "output_type": "stream",
     "text": [
      "best bins: 100 , best ROI threshold: 0.95 , best score: 0.8777777777777778\n",
      "predictions: [1 1 0 1 1 1]\n",
      "real y: [0 0 0 1 1 1]\n",
      "Test result: 0.6666666666666666\n",
      "Errors: 2\n"
     ]
    }
   ],
   "source": [
    "print('best bins:', best_bins, ', best ROI threshold:', best_ROI, ', best score:', best_clf_score)\n",
    "X_test = np.load('./bins/bins_arr_test_'+str(best_bins)+'r'+str(best_ROI)+'.npy')\n",
    "y_test = np.zeros(np.shape(test_set), dtype='int')\n",
    "for i, slide_name in enumerate(test_set):\n",
    "    y_test[i] = results_dict[slide_name]\n",
    "\n",
    "y_pred = best_clf.predict(X_test)\n",
    "\n",
    "print('predictions:',y_pred)\n",
    "print('real y:', y_test)\n",
    "score = accuracy_score(y_test, y_pred)\n",
    "errors = np.size(test_set) - accuracy_score(y_test, y_pred, normalize=False)\n",
    "print('Test result:', score)\n",
    "print('Errors:', errors)"
   ]
  }
 ],
 "metadata": {
  "kernelspec": {
   "display_name": "Python 3",
   "language": "python",
   "name": "python3"
  },
  "language_info": {
   "codemirror_mode": {
    "name": "ipython",
    "version": 3
   },
   "file_extension": ".py",
   "mimetype": "text/x-python",
   "name": "python",
   "nbconvert_exporter": "python",
   "pygments_lexer": "ipython3",
   "version": "3.7.11"
  }
 },
 "nbformat": 4,
 "nbformat_minor": 5
}

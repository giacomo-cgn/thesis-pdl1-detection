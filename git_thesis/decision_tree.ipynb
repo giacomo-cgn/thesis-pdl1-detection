{
 "cells": [
  {
   "cell_type": "code",
   "execution_count": 1,
   "id": "25851998-0ac7-4d77-8334-826dfb9bd678",
   "metadata": {},
   "outputs": [],
   "source": [
    "import numpy as np\n",
    "from sklearn.tree import DecisionTreeClassifier\n",
    "import matplotlib.pyplot as plt\n",
    "from define_dataset import define_dataset\n",
    "import time\n",
    "from sklearn.model_selection import cross_val_score\n",
    "from sklearn.metrics import accuracy_score"
   ]
  },
  {
   "cell_type": "code",
   "execution_count": 6,
   "id": "4f95737b-0efd-4d74-a3e9-da891b5a2238",
   "metadata": {},
   "outputs": [],
   "source": [
    "dataset = define_dataset()\n",
    "tr_set = dataset.tr_set\n",
    "test_set = dataset.test_set\n",
    "results_dict = dataset.results_dict\n",
    "num_bins_arr = [40, 60, 100]\n",
    "ROI_threshold_arr = [0.85, 0.9, 0.95]\n",
    "best_clf_score = 0"
   ]
  },
  {
   "cell_type": "code",
   "execution_count": 9,
   "id": "315e3e10-01c6-4560-8ffb-b99351a50cf7",
   "metadata": {},
   "outputs": [
    {
     "name": "stdout",
     "output_type": "stream",
     "text": [
      "Num bins: 40 ROI threshold: 0.85\n",
      "0.75\n",
      "Num bins: 60 ROI threshold: 0.85\n",
      "0.638888888888889\n",
      "Num bins: 100 ROI threshold: 0.85\n",
      "0.7222222222222223\n",
      "Num bins: 40 ROI threshold: 0.9\n",
      "0.7777777777777778\n",
      "Num bins: 60 ROI threshold: 0.9\n",
      "0.7777777777777778\n",
      "Num bins: 100 ROI threshold: 0.9\n",
      "0.7222222222222223\n",
      "Num bins: 40 ROI threshold: 0.95\n",
      "0.75\n",
      "Num bins: 60 ROI threshold: 0.95\n",
      "0.7222222222222223\n",
      "Num bins: 100 ROI threshold: 0.95\n",
      "0.7222222222222223\n"
     ]
    }
   ],
   "source": [
    "for ROI_threshold in ROI_threshold_arr:\n",
    "    for num_bins in num_bins_arr:\n",
    "        print('Num bins:', num_bins, 'ROI threshold:', ROI_threshold)\n",
    "\n",
    "        X = np.load('bins/bins_arr_'+str(num_bins)+'r'+str(ROI_threshold)+'.npy')\n",
    "        y = np.zeros(np.shape(tr_set), dtype='int')\n",
    "        for i, slide_name in enumerate(tr_set):\n",
    "            y[i] = results_dict[slide_name]\n",
    "\n",
    "        clf = DecisionTreeClassifier()\n",
    "        scores = cross_val_score(clf, X, y, cv=6)\n",
    "        score = sum(scores)/len(scores)\n",
    "        print(score)\n",
    "        #retrain\n",
    "        clf.fit(X, y)\n",
    "\n",
    "        if score >= best_clf_score:\n",
    "            best_clf_score = score\n",
    "            best_clf = clf\n",
    "            best_bins = num_bins\n",
    "            best_ROI = ROI_threshold"
   ]
  },
  {
   "cell_type": "markdown",
   "id": "a3871c8f-a47c-4b53-b74e-e5bcdc1f35ea",
   "metadata": {},
   "source": [
    "Test set"
   ]
  },
  {
   "cell_type": "code",
   "execution_count": 12,
   "id": "a9ba5b13-3287-4d19-8dca-bf7804e1abc3",
   "metadata": {},
   "outputs": [
    {
     "name": "stdout",
     "output_type": "stream",
     "text": [
      "best bins: 40 , best ROI threshold: 0.95 , best score: 0.7833333333333333\n",
      "predictions: [1 1 0 1 1 1]\n",
      "real y: [0 0 0 1 1 1]\n",
      "Test result: 0.6666666666666666\n",
      "Errors: 2\n"
     ]
    }
   ],
   "source": [
    "print('best bins:', best_bins, ', best ROI threshold:', best_ROI, ', best score:', best_clf_score)\n",
    "X_test = np.load('./bins/bins_arr_test_'+str(best_bins)+'r'+str(best_ROI)+'.npy')\n",
    "y_test = np.zeros(np.shape(test_set), dtype='int')\n",
    "for i, slide_name in enumerate(test_set):\n",
    "    y_test[i] = results_dict[slide_name]\n",
    "\n",
    "y_pred = best_clf.predict(X_test)\n",
    "\n",
    "print('predictions:',y_pred)\n",
    "print('real y:', y_test)\n",
    "score = accuracy_score(y_test, y_pred)\n",
    "errors = np.size(test_set) - accuracy_score(y_test, y_pred, normalize=False)\n",
    "print('Test result:', score)\n",
    "print('Errors:', errors)"
   ]
  }
 ],
 "metadata": {
  "kernelspec": {
   "display_name": "Python 3",
   "language": "python",
   "name": "python3"
  },
  "language_info": {
   "codemirror_mode": {
    "name": "ipython",
    "version": 3
   },
   "file_extension": ".py",
   "mimetype": "text/x-python",
   "name": "python",
   "nbconvert_exporter": "python",
   "pygments_lexer": "ipython3",
   "version": "3.7.11"
  }
 },
 "nbformat": 4,
 "nbformat_minor": 5
}
